{
 "cells": [
  {
   "cell_type": "markdown",
   "metadata": {},
   "source": [
    "# Di-Muon mass peak on 2012 CMS open data\n",
    "* iPhython notebook to read in 2012 open data AOD files and extract di-muon invariant mass peak"
   ]
  },
  {
   "cell_type": "markdown",
   "metadata": {},
   "source": [
    "## Imports\n",
    "\n",
    "* call all necesary imports"
   ]
  },
  {
   "cell_type": "code",
   "execution_count": 1,
   "metadata": {},
   "outputs": [],
   "source": [
    "import org.dianahep.sparkroot.experimental._\n",
    "import codegen._\n",
    "import scala.math._\n",
    "import java.io._"
   ]
  },
  {
   "cell_type": "markdown",
   "metadata": {},
   "source": [
    "## Open file\n",
    "* open file"
   ]
  },
  {
   "cell_type": "code",
   "execution_count": 2,
   "metadata": {},
   "outputs": [
    {
     "name": "stdout",
     "output_type": "stream",
     "text": [
      "Could not find ROOT clas: vector<edm::StoredProductProvenance>. Swallowing...\n",
      "Could not find ROOT clas: vector<unsigned short>. Swallowing...\n"
     ]
    },
    {
     "data": {
      "text/plain": [
       "filename = file:/home/PlayerOne/Data/EC8239EF-1181-E211-8953-001EC9D80AB9.root\n",
       "ds = [EventAuxiliary: struct<processHistoryID_: struct<hash_: string>, id_: struct<run_: int, luminosityBlock_: int ... 1 more field> ... 8 more fields>, EventProductProvenance: array<struct<branchID_:int,parentageIDIndex_:int>> ... 372 more fields]\n"
      ]
     },
     "metadata": {},
     "output_type": "display_data"
    },
    {
     "data": {
      "text/plain": [
       "[EventAuxiliary: struct<processHistoryID_: struct<hash_: string>, id_: struct<run_: int, luminosityBlock_: int ... 1 more field> ... 8 more fields>, EventProductProvenance: array<struct<branchID_:int,parentageIDIndex_:int>> ... 372 more fields]"
      ]
     },
     "execution_count": 2,
     "metadata": {},
     "output_type": "execute_result"
    }
   ],
   "source": [
    "val filename = \"file:/home/PlayerOne/Data/EC8239EF-1181-E211-8953-001EC9D80AB9.root\"\n",
    "val ds = spark.sqlContext.read.option(\"tree\",\"Events\").root(filename)"
   ]
  },
  {
   "cell_type": "markdown",
   "metadata": {},
   "source": [
    "## Write schema into file"
   ]
  },
  {
   "cell_type": "code",
   "execution_count": 3,
   "metadata": {},
   "outputs": [
    {
     "data": {
      "text/plain": [
       "file = schema.txt\n",
       "bw = java.io.BufferedWriter@30d644e5\n"
      ]
     },
     "metadata": {},
     "output_type": "display_data"
    },
    {
     "data": {
      "text/plain": [
       "java.io.BufferedWriter@30d644e5"
      ]
     },
     "execution_count": 3,
     "metadata": {},
     "output_type": "execute_result"
    }
   ],
   "source": [
    "val file = new File(\"schema.txt\")\n",
    "val bw = new BufferedWriter(new FileWriter(file))\n",
    "bw.write(ds.schema.treeString)\n",
    "bw.close()"
   ]
  },
  {
   "cell_type": "markdown",
   "metadata": {},
   "source": [
    "# Select branches"
   ]
  },
  {
   "cell_type": "code",
   "execution_count": 4,
   "metadata": {},
   "outputs": [
    {
     "data": {
      "text/plain": [
       "dsMuons = [muons: array<struct<qx3_:int,pt_:float,eta_:float,phi_:float,mass_:float,vertex_:struct<fCoordinates:struct<fX:float,fY:float,fZ:float>>,pdgId_:int,status_:int,innerTrack_:struct<recoMuons_muons__RECO_obj_innerTrack__product_:struct<processIndex_:smallint,productIndex_:smallint,elementIndex_:int>>,outerTrack_:struct<recoMuons_muons__RECO_obj_outerTrack__product_:struct<processIndex_:smallint,productIndex_:smallint,elementIndex_:int>>,globalTrack_:struct<recoMuons_muons__RECO_obj_globalTrack__product_:struct<processIndex_:smallint,productIndex_:smallint,elementIndex_:int>>,recoMuons_muons__RECO_obj_refittedTrackMap_:map<int,struct<product_:struct<processIndex_:smallint,productIndex_:smallint,elementIndex_:int>>>,bestTrackType_:int,calEnergy_:str...\n"
      ]
     },
     "metadata": {},
     "output_type": "display_data"
    },
    {
     "data": {
      "text/plain": [
       "[muons: array<struct<qx3_:int,pt_:float,eta_:float,phi_:float,mass_:float,vertex_:struct<fCoordinates:struct<fX:float,fY:float,fZ:float>>,pdgId_:int,status_:int,innerTrack_:struct<recoMuons_muons__RECO_obj_innerTrack__product_:struct<processIndex_:smallint,productIndex_:smallint,elementIndex_:int>>,outerTrack_:struct<recoMuons_muons__RECO_obj_outerTrack__product_:struct<processIndex_:smallint,productIndex_:smallint,elementIndex_:int>>,globalTrack_:struct<recoMuons_muons__RECO_obj_globalTrack__product_:struct<processIndex_:smallint,productIndex_:smallint,elementIndex_:int>>,recoMuons_muons__RECO_obj_refittedTrackMap_:map<int,struct<product_:struct<processIndex_:smallint,productIndex_:smallint,elementIndex_:int>>>,bestTrackType_:int,calEnergy_:struct<tower:float,towerS9:float,em:float,emS9:float,emS25:float,emMax:float,had:float,hadS9:float,hadMax:float,ho:float,hoS9:float,ecal_time:float,ecal_timeError:float,hcal_time:float,hcal_timeError:float,ecal_position:struct<fCoordinates:struct<fX:float,fY:float,fZ:float>>,hcal_position:struct<fCoordinates:struct<fX:float,fY:float,fZ:float>>,ecal_id:struct<id_:int>,hcal_id:struct<id_:int>>,combinedQuality_:struct<updatedSta:boolean,trkKink:float,glbKink:float,trkRelChi2:float,staRelChi2:float,chi2LocalPosition:float,chi2LocalMomentum:float,localDistance:float,globalDeltaEtaPhi:float,tightMatch:boolean,glbTrackProbability:float,tkKink_position:struct<fCoordinates:struct<fX:double,fY:double,fZ:double>>,glbKink_position:struct<fCoordinates:struct<fX:double,fY:double,fZ:double>>>,time_:struct<nDof:int,timeAtIpInOut:float,timeAtIpInOutErr:float,timeAtIpOutIn:float,timeAtIpOutInErr:float>,energyValid_:boolean,matchesValid_:boolean,isolationValid_:boolean,pfIsolationValid_:boolean,qualityValid_:boolean,caloCompatibility_:float,isolationR03_:struct<sumPt:float,emEt:float,hadEt:float,hoEt:float,nTracks:int,nJets:int,trackerVetoPt:float,emVetoEt:float,hadVetoEt:float,hoVetoEt:float>,isolationR05_:struct<sumPt:float,emEt:float,hadEt:float,hoEt:float,nTracks:int,nJets:int,trackerVetoPt:float,emVetoEt:float,hadVetoEt:float,hoVetoEt:float>,... 4 more fields>>]"
      ]
     },
     "execution_count": 4,
     "metadata": {},
     "output_type": "execute_result"
    }
   ],
   "source": [
    "val dsMuons = ds.select(\"recoMuons_muons__RECO_.recoMuons_muons__RECO_obj\").toDF(\"muons\")"
   ]
  },
  {
   "cell_type": "code",
   "execution_count": 5,
   "metadata": {},
   "outputs": [
    {
     "data": {
      "text/plain": [
       "dsElectrons = [electrons: array<struct<qx3_:int,pt_:float,eta_:float,phi_:float,mass_:float,vertex_:struct<fCoordinates:struct<fX:float,fY:float,fZ:float>>,pdgId_:int,status_:int,chargeInfo_:struct<scPixCharge:int,isGsfCtfScPixConsistent:boolean,isGsfScPixConsistent:boolean,isGsfCtfConsistent:boolean>,core_:struct<recoGsfElectrons_gsfElectrons__RECO_obj_core__product_:struct<processIndex_:smallint,productIndex_:smallint,elementIndex_:int>>,trackClusterMatching_:struct<electronCluster:struct<recoGsfElectrons_gsfElectrons__RECO_obj_trackClusterMatching__electronCluster_core_:struct<processIndex_:smallint,productIndex_:smallint>,key_:bigint>,eSuperClusterOverP:float,eSeedClusterOverP:float,eSeedClusterOverPout:float,eEleClusterOverPout:float,deltaEtaSuperClu...\n"
      ]
     },
     "metadata": {},
     "output_type": "display_data"
    },
    {
     "data": {
      "text/plain": [
       "[electrons: array<struct<qx3_:int,pt_:float,eta_:float,phi_:float,mass_:float,vertex_:struct<fCoordinates:struct<fX:float,fY:float,fZ:float>>,pdgId_:int,status_:int,chargeInfo_:struct<scPixCharge:int,isGsfCtfScPixConsistent:boolean,isGsfScPixConsistent:boolean,isGsfCtfConsistent:boolean>,core_:struct<recoGsfElectrons_gsfElectrons__RECO_obj_core__product_:struct<processIndex_:smallint,productIndex_:smallint,elementIndex_:int>>,trackClusterMatching_:struct<electronCluster:struct<recoGsfElectrons_gsfElectrons__RECO_obj_trackClusterMatching__electronCluster_core_:struct<processIndex_:smallint,productIndex_:smallint>,key_:bigint>,eSuperClusterOverP:float,eSeedClusterOverP:float,eSeedClusterOverPout:float,eEleClusterOverPout:float,deltaEtaSuperClusterAtVtx:float,deltaEtaSeedClusterAtCalo:float,deltaEtaEleClusterAtCalo:float,deltaPhiEleClusterAtCalo:float,deltaPhiSuperClusterAtVtx:float,deltaPhiSeedClusterAtCalo:float>,trackExtrapolations_:struct<positionAtVtx:struct<fCoordinates:struct<fX:float,fY:float,fZ:float>>,positionAtCalo:struct<fCoordinates:struct<fX:float,fY:float,fZ:float>>,momentumAtVtx:struct<fCoordinates:struct<fX:float,fY:float,fZ:float>>,momentumAtCalo:struct<fCoordinates:struct<fX:float,fY:float,fZ:float>>,momentumOut:struct<fCoordinates:struct<fX:float,fY:float,fZ:float>>,momentumAtEleClus:struct<fCoordinates:struct<fX:float,fY:float,fZ:float>>,momentumAtVtxWithConstraint:struct<fCoordinates:struct<fX:float,fY:float,fZ:float>>>,fiducialFlags_:struct<isEB:boolean,isEE:boolean,isEBEEGap:boolean,isEBEtaGap:boolean,isEBPhiGap:boolean,isEEDeeGap:boolean,isEERingGap:boolean>,showerShape_:struct<sigmaEtaEta:float,sigmaIetaIeta:float,sigmaIphiIphi:float,e1x5:float,e2x5Max:float,e5x5:float,r9:float,hcalDepth1OverEcal:float,hcalDepth2OverEcal:float,recoGsfElectrons_gsfElectrons__RECO_obj_showerShape__hcalTowersBehindClusters:array<struct<DetId:struct<id_:int>>>,hcalDepth1OverEcalBc:float,hcalDepth2OverEcalBc:float>,dr03_:struct<tkSumPt:float,ecalRecHitSumEt:float,hcalDepth1TowerSumEt:float,hcalDepth2TowerSumEt:float,hcalDepth1TowerSumEtBc:float,hcalDepth2TowerSumEtBc:float>,dr04_:struct<tkSumPt:float,ecalRecHitSumEt:float,hcalDepth1TowerSumEt:float,hcalDepth2TowerSumEt:float,hcalDepth1TowerSumEtBc:float,hcalDepth2TowerSumEtBc:float>,conversionRejection_:struct<flags:int,dist:float,dcot:float,radius:float>,pfShowerShape_:struct<sigmaEtaEta:float,sigmaIetaIeta:float,sigmaIphiIphi:float,e1x5:float,e2x5Max:float,e5x5:float,r9:float,hcalDepth1OverEcal:float,hcalDepth2OverEcal:float,recoGsfElectrons_gsfElectrons__RECO_obj_pfShowerShape__hcalTowersBehindClusters:array<struct<DetId:struct<id_:int>>>,hcalDepth1OverEcalBc:float,hcalDepth2OverEcalBc:float>,pfIso_:struct<chargedHadronIso:float,neutralHadronIso:float,photonIso:float>,mvaInput_:struct<earlyBrem:int,lateBrem:int,sigmaEtaEta:float,hadEnergy:float,deltaEta:float,nClusterOutsideMustache:int,etOutsideMustache:float>,mvaOutput_:struct<status:int,mva:float,mvaByPassForIsolated:float>,passCutBasedPreselection_:boolean,passPflowPreselection_:boolean,passMvaPreslection_:boolean,... 5 more fields>>]"
      ]
     },
     "execution_count": 5,
     "metadata": {},
     "output_type": "execute_result"
    }
   ],
   "source": [
    "val dsElectrons = ds.select(\"recoGsfElectrons_gsfElectrons__RECO_.recoGsfElectrons_gsfElectrons__RECO_obj\").toDF(\"electrons\")"
   ]
  },
  {
   "cell_type": "code",
   "execution_count": 6,
   "metadata": {},
   "outputs": [
    {
     "name": "stdout",
     "output_type": "stream",
     "text": [
      "Could not find ROOT clas: vector<edm::StoredProductProvenance>. Swallowing...\n",
      "Could not find ROOT clas: vector<unsigned short>. Swallowing...\n"
     ]
    },
    {
     "data": {
      "text/plain": [
       "1821"
      ]
     },
     "execution_count": 6,
     "metadata": {},
     "output_type": "execute_result"
    }
   ],
   "source": [
    "dsMuons.count\n"
   ]
  },
  {
   "cell_type": "code",
   "execution_count": 7,
   "metadata": {},
   "outputs": [
    {
     "name": "stdout",
     "output_type": "stream",
     "text": [
      "Could not find ROOT clas: vector<edm::StoredProductProvenance>. Swallowing...\n",
      "Could not find ROOT clas: vector<unsigned short>. Swallowing...\n"
     ]
    },
    {
     "data": {
      "text/plain": [
       "1821"
      ]
     },
     "execution_count": 7,
     "metadata": {},
     "output_type": "execute_result"
    }
   ],
   "source": [
    "dsElectrons.count\n"
   ]
  },
  {
   "cell_type": "code",
   "execution_count": 8,
   "metadata": {},
   "outputs": [
    {
     "data": {
      "text/plain": [
       "file = muon_schema.txt\n",
       "bw = java.io.BufferedWriter@67ad6834\n"
      ]
     },
     "metadata": {},
     "output_type": "display_data"
    },
    {
     "data": {
      "text/plain": [
       "java.io.BufferedWriter@67ad6834"
      ]
     },
     "execution_count": 8,
     "metadata": {},
     "output_type": "execute_result"
    }
   ],
   "source": [
    "val file = new File(\"muon_schema.txt\")\n",
    "val bw = new BufferedWriter(new FileWriter(file))\n",
    "bw.write(dsMuons.schema.treeString)\n",
    "bw.close()"
   ]
  },
  {
   "cell_type": "code",
   "execution_count": 9,
   "metadata": {},
   "outputs": [
    {
     "data": {
      "text/plain": [
       "file = electron_schema.txt\n",
       "bw = java.io.BufferedWriter@2b9fdef6\n"
      ]
     },
     "metadata": {},
     "output_type": "display_data"
    },
    {
     "data": {
      "text/plain": [
       "java.io.BufferedWriter@2b9fdef6"
      ]
     },
     "execution_count": 9,
     "metadata": {},
     "output_type": "execute_result"
    }
   ],
   "source": [
    "val file = new File(\"electron_schema.txt\")\n",
    "val bw = new BufferedWriter(new FileWriter(file))\n",
    "bw.write(dsElectrons.schema.treeString)\n",
    "bw.close()"
   ]
  },
  {
   "cell_type": "markdown",
   "metadata": {},
   "source": [
    "# Generate schema for branches\n",
    "\n",
    "This allows us to interact with the nested structure, but generates a lot of specific code.."
   ]
  },
  {
   "cell_type": "code",
   "execution_count": 10,
   "metadata": {
    "scrolled": true
   },
   "outputs": [
    {
     "data": {
      "text/plain": [
       "queue = \n"
      ]
     },
     "metadata": {},
     "output_type": "display_data"
    },
    {
     "data": {
      "text/plain": [
       "Queue(\"\n",
       "\", \"\n",
       "\", \"\n",
       "\", \"\n",
       "\", \"\n",
       "\", \"\n",
       "\", \"\n",
       "\", \"\n",
       "\", \"\n",
       "   ...\n"
      ]
     },
     "metadata": {},
     "output_type": "display_data"
    },
    {
     "data": {
      "text/plain": [
       "Queue(\n",
       "case class Record2 (\n",
       "    fX : Float,\n",
       "    fY : Float,\n",
       "    fZ : Float\n",
       ")\n",
       ", \n",
       "case class Record1 (\n",
       "    fCoordinates : Record2\n",
       ")\n",
       ", \n",
       "case class Record4 (\n",
       "    processIndex_ : Short,\n",
       "    productIndex_ : Short,\n",
       "    elementIndex_ : Int\n",
       ")\n",
       ", \n",
       "case class Record3 (\n",
       "    recoMuons_muons__RECO_obj_innerTrack__product_ : Record4\n",
       ")\n",
       ", \n",
       "case class Record6 (\n",
       "    processIndex_ : Short,\n",
       "    productIndex_ : Short,\n",
       "    elementIndex_ : Int\n",
       ")\n",
       ", \n",
       "case class Record5 (\n",
       "    recoMuons_muons__RECO_obj_outerTrack__product_ : Record6\n",
       ")\n",
       ", \n",
       "case class Record8 (\n",
       "    processIndex_ : Short,\n",
       "    productIndex_ : Short,\n",
       "    elementIndex_ : Int\n",
       ")\n",
       ", \n",
       "case class Record7 (\n",
       "    recoMuons_muons__RECO_obj_globalTrack__product_ : Record8\n",
       ")\n",
       ", \n",
       "case class Record10 (\n",
       "    processIndex_ : Short,\n",
       "    productIndex_ : Short,\n",
       "    elementIndex_ : Int\n",
       ")\n",
       ", \n",
       "case class Record9 (\n",
       "    product_ : Record10\n",
       ")\n",
       ", \n",
       "case class Record13 (\n",
       "    fX : Float,\n",
       "    fY : Float,\n",
       "    fZ : Float\n",
       ")\n",
       ", \n",
       "case class Record12 (\n",
       "    fCoordinates : Record13\n",
       ")\n",
       ", \n",
       "case class Record15 (\n",
       "    fX : Float,\n",
       "    fY : Float,\n",
       "    fZ : Float\n",
       ")\n",
       ", \n",
       "case class Record14 (\n",
       "    fCoordinates : Record15\n",
       ")\n",
       ", \n",
       "case class Record16 (\n",
       "    id_ : Int\n",
       ")\n",
       ", \n",
       "case class Record17 (\n",
       "    id_ : Int\n",
       ")\n",
       ", \n",
       "case class Record11 (\n",
       "    tower : Float,\n",
       "    towerS9 : Float,\n",
       "    em : Float,\n",
       "    emS9 : Float,\n",
       "    emS25 : Float,\n",
       "    emMax : Float,\n",
       "    had : Float,\n",
       "    hadS9 : Float,\n",
       "    hadMax : Float,\n",
       "    ho : Float,\n",
       "    hoS9 : Float,\n",
       "    ecal_time : Float,\n",
       "    ecal_timeError : Float,\n",
       "    hcal_time : Float,\n",
       "    hcal_timeError : Float,\n",
       "    ecal_position : Record12,\n",
       "    hcal_position : Record14,\n",
       "    ecal_id : Record16,\n",
       "    hcal_id : Record17\n",
       ")\n",
       ", \n",
       "case class Record20 (\n",
       "    fX : Double,\n",
       "    fY : Double,\n",
       "    fZ : Double\n",
       ")\n",
       ", \n",
       "case class Record19 (\n",
       "    fCoordinates : Record20\n",
       ")\n",
       ", \n",
       "case class Record22 (\n",
       "    fX : Double,\n",
       "    fY : Double,\n",
       "    fZ : Double\n",
       ")\n",
       ", \n",
       "case class Record21 (\n",
       "    fCoordinates : Record22\n",
       ")\n",
       ", \n",
       "case class Record18 (\n",
       "    updatedSta : Boolean,\n",
       "    trkKink : Float,\n",
       "    glbKink : Float,\n",
       "    trkRelChi2 : Float,\n",
       "    staRelChi2 : Float,\n",
       "    chi2LocalPosition : Float,\n",
       "    chi2LocalMomentum : Float,\n",
       "    localDistance : Float,\n",
       "    globalDeltaEtaPhi : Float,\n",
       "    tightMatch : Boolean,\n",
       "    glbTrackProbability : Float,\n",
       "    tkKink_position : Record19,\n",
       "    glbKink_position : Record21\n",
       ")\n",
       ", \n",
       "case class Record23 (\n",
       "    nDof : Int,\n",
       "    timeAtIpInOut : Float,\n",
       "    timeAtIpInOutErr : Float,\n",
       "    timeAtIpOutIn : Float,\n",
       "    timeAtIpOutInErr : Float\n",
       ")\n",
       ", \n",
       "case class Record24 (\n",
       "    sumPt : Float,\n",
       "    emEt : Float,\n",
       "    hadEt : Float,\n",
       "    hoEt : Float,\n",
       "    nTracks : Int,\n",
       "    nJets : Int,\n",
       "    trackerVetoPt : Float,\n",
       "    emVetoEt : Float,\n",
       "    hadVetoEt : Float,\n",
       "    hoVetoEt : Float\n",
       ")\n",
       ", \n",
       "case class Record25 (\n",
       "    sumPt : Float,\n",
       "    emEt : Float,\n",
       "    hadEt : Float,\n",
       "    hoEt : Float,\n",
       "    nTracks : Int,\n",
       "    nJets : Int,\n",
       "    trackerVetoPt : Float,\n",
       "    emVetoEt : Float,\n",
       "    hadVetoEt : Float,\n",
       "    hoVetoEt : Float\n",
       ")\n",
       ", \n",
       "case class Record26 (\n",
       "    sumChargedHadronPt : Float,\n",
       "    sumChargedParticlePt : Float,\n",
       "    sumNeutralHadronEt : Float,\n",
       "    sumPhotonEt : Float,\n",
       "    sumNeutralHadronEtHighThreshold : Float,\n",
       "    sumPhotonEtHighThreshold : Float,\n",
       "    sumPUPt : Float\n",
       ")\n",
       ", \n",
       "case class Record27 (\n",
       "    sumChargedHadronPt : Float,\n",
       "    sumChargedParticlePt : Float,\n",
       "    sumNeutralHadronEt : Float,\n",
       "    sumPhotonEt : Float,\n",
       "    sumNeutralHadronEtHighThreshold : Float,\n",
       "    sumPhotonEtHighThreshold : Float,\n",
       "    sumPUPt : Float\n",
       ")\n",
       ", \n",
       "case class Record29 (\n",
       "    fX : Double,\n",
       "    fY : Double,\n",
       "    fZ : Double,\n",
       "    fT : Double\n",
       ")\n",
       ", \n",
       "case class Record28 (\n",
       "    fCoordinates : Record29\n",
       ")\n",
       ", \n",
       "case class Record0 (\n",
       "    qx3_ : Int,\n",
       "    pt_ : Float,\n",
       "    eta_ : Float,\n",
       "    phi_ : Float,\n",
       "    mass_ : Float,\n",
       "    vertex_ : Record1,\n",
       "    pdgId_ : Int,\n",
       "    status_ : Int,\n",
       "    innerTrack_ : Record3,\n",
       "    outerTrack_ : Record5,\n",
       "    globalTrack_ : Record7,\n",
       "    recoMuons_muons__RECO_obj_refittedTrackMap_ : Map[Int, Record9],\n",
       "    bestTrackType_ : Int,\n",
       "    calEnergy_ : Record11,\n",
       "    combinedQuality_ : Record18,\n",
       "    time_ : Record23,\n",
       "    energyValid_ : Boolean,\n",
       "    matchesValid_ : Boolean,\n",
       "    isolationValid_ : Boolean,\n",
       "    pfIsolationValid_ : Boolean,\n",
       "    qualityValid_ : Boolean,\n",
       "    caloCompatibility_ : Float,\n",
       "    isolationR03_ : Record24,\n",
       "    isolationR05_ : Record25,\n",
       "    pfIsolationR03_ : Record26,\n",
       "    pfIsolationR04_ : Record27,\n",
       "    type_ : Int,\n",
       "    pfP4_ : Record28\n",
       ")\n",
       ", \n",
       "case class Event (\n",
       "    muons : Seq[Record0]\n",
       ")\n",
       ")"
      ]
     },
     "execution_count": 10,
     "metadata": {},
     "output_type": "execute_result"
    }
   ],
   "source": [
    "val queue = dsMuons.schema.codeGen(\"Event\")\n",
    "val s = queue.mkString(\"\\n\")\n",
    "val file = new File(\"muon_schema_codegen.txt\")\n",
    "val bw = new BufferedWriter(new FileWriter(file))\n",
    "bw.write(s)\n",
    "bw.close()"
   ]
  },
  {
   "cell_type": "code",
   "execution_count": 11,
   "metadata": {},
   "outputs": [
    {
     "data": {
      "text/plain": [
       "defined class MuonRecord2\n",
       "defined class MuonRecord1\n",
       "defined class MuonRecord4\n",
       "defined class MuonRecord3\n",
       "defined class MuonRecord6\n",
       "defined class MuonRecord5\n",
       "defined class MuonRecord8\n",
       "defined class MuonRecord7\n",
       "defined class MuonRecord10\n",
       "defined class MuonRecord9\n",
       "defined class MuonRecord13\n",
       "defined class MuonRecord12\n",
       "defined class MuonRecord15\n",
       "defined class MuonRecord14\n",
       "defined class MuonRecord16\n",
       "defined class MuonRecord17\n",
       "defined class MuonRecord11\n",
       "defined class MuonRecord20\n",
       "defined class MuonRecord19\n",
       "defined class MuonRecord22\n",
       "defined class MuonRecord21\n",
       "defined class MuonRecord18\n",
       "defined class MuonRecord23\n",
       "defined class MuonRecord24\n",
       "defined class MuonRecord25\n",
       "defined class MuonRecord26\n",
       "defined class MuonRecord27\n",
       "defined class MuonRecord29\n",
       "defined class MuonRecord28\n",
       "defined class MuonRecor...\n"
      ]
     },
     "metadata": {},
     "output_type": "display_data"
    }
   ],
   "source": [
    "\n",
    "case class MuonRecord2 (\n",
    "    fX : Float,\n",
    "    fY : Float,\n",
    "    fZ : Float\n",
    ")\n",
    "\n",
    "\n",
    "case class MuonRecord1 (\n",
    "    fCoordinates : MuonRecord2\n",
    ")\n",
    "\n",
    "\n",
    "case class MuonRecord4 (\n",
    "    processIndex_ : Short,\n",
    "    productIndex_ : Short,\n",
    "    elementIndex_ : Int\n",
    ")\n",
    "\n",
    "\n",
    "case class MuonRecord3 (\n",
    "    recoMuons_muons__RECO_obj_innerTrack__product_ : MuonRecord4\n",
    ")\n",
    "\n",
    "\n",
    "case class MuonRecord6 (\n",
    "    processIndex_ : Short,\n",
    "    productIndex_ : Short,\n",
    "    elementIndex_ : Int\n",
    ")\n",
    "\n",
    "\n",
    "case class MuonRecord5 (\n",
    "    recoMuons_muons__RECO_obj_outerTrack__product_ : MuonRecord6\n",
    ")\n",
    "\n",
    "\n",
    "case class MuonRecord8 (\n",
    "    processIndex_ : Short,\n",
    "    productIndex_ : Short,\n",
    "    elementIndex_ : Int\n",
    ")\n",
    "\n",
    "\n",
    "case class MuonRecord7 (\n",
    "    recoMuons_muons__RECO_obj_globalTrack__product_ : MuonRecord8\n",
    ")\n",
    "\n",
    "\n",
    "case class MuonRecord10 (\n",
    "    processIndex_ : Short,\n",
    "    productIndex_ : Short,\n",
    "    elementIndex_ : Int\n",
    ")\n",
    "\n",
    "\n",
    "case class MuonRecord9 (\n",
    "    product_ : MuonRecord10\n",
    ")\n",
    "\n",
    "\n",
    "case class MuonRecord13 (\n",
    "    fX : Float,\n",
    "    fY : Float,\n",
    "    fZ : Float\n",
    ")\n",
    "\n",
    "\n",
    "case class MuonRecord12 (\n",
    "    fCoordinates : MuonRecord13\n",
    ")\n",
    "\n",
    "\n",
    "case class MuonRecord15 (\n",
    "    fX : Float,\n",
    "    fY : Float,\n",
    "    fZ : Float\n",
    ")\n",
    "\n",
    "\n",
    "case class MuonRecord14 (\n",
    "    fCoordinates : MuonRecord15\n",
    ")\n",
    "\n",
    "\n",
    "case class MuonRecord16 (\n",
    "    id_ : Int\n",
    ")\n",
    "\n",
    "\n",
    "case class MuonRecord17 (\n",
    "    id_ : Int\n",
    ")\n",
    "\n",
    "\n",
    "case class MuonRecord11 (\n",
    "    tower : Float,\n",
    "    towerS9 : Float,\n",
    "    em : Float,\n",
    "    emS9 : Float,\n",
    "    emS25 : Float,\n",
    "    emMax : Float,\n",
    "    had : Float,\n",
    "    hadS9 : Float,\n",
    "    hadMax : Float,\n",
    "    ho : Float,\n",
    "    hoS9 : Float,\n",
    "    ecal_time : Float,\n",
    "    ecal_timeError : Float,\n",
    "    hcal_time : Float,\n",
    "    hcal_timeError : Float,\n",
    "    ecal_position : MuonRecord12,\n",
    "    hcal_position : MuonRecord14,\n",
    "    ecal_id : MuonRecord16,\n",
    "    hcal_id : MuonRecord17\n",
    ")\n",
    "\n",
    "\n",
    "case class MuonRecord20 (\n",
    "    fX : Double,\n",
    "    fY : Double,\n",
    "    fZ : Double\n",
    ")\n",
    "\n",
    "\n",
    "case class MuonRecord19 (\n",
    "    fCoordinates : MuonRecord20\n",
    ")\n",
    "\n",
    "\n",
    "case class MuonRecord22 (\n",
    "    fX : Double,\n",
    "    fY : Double,\n",
    "    fZ : Double\n",
    ")\n",
    "\n",
    "\n",
    "case class MuonRecord21 (\n",
    "    fCoordinates : MuonRecord22\n",
    ")\n",
    "\n",
    "\n",
    "case class MuonRecord18 (\n",
    "    updatedSta : Boolean,\n",
    "    trkKink : Float,\n",
    "    glbKink : Float,\n",
    "    trkRelChi2 : Float,\n",
    "    staRelChi2 : Float,\n",
    "    chi2LocalPosition : Float,\n",
    "    chi2LocalMomentum : Float,\n",
    "    localDistance : Float,\n",
    "    globalDeltaEtaPhi : Float,\n",
    "    tightMatch : Boolean,\n",
    "    glbTrackProbability : Float,\n",
    "    tkKink_position : MuonRecord19,\n",
    "    glbKink_position : MuonRecord21\n",
    ")\n",
    "\n",
    "\n",
    "case class MuonRecord23 (\n",
    "    nDof : Int,\n",
    "    timeAtIpInOut : Float,\n",
    "    timeAtIpInOutErr : Float,\n",
    "    timeAtIpOutIn : Float,\n",
    "    timeAtIpOutInErr : Float\n",
    ")\n",
    "\n",
    "\n",
    "case class MuonRecord24 (\n",
    "    sumPt : Float,\n",
    "    emEt : Float,\n",
    "    hadEt : Float,\n",
    "    hoEt : Float,\n",
    "    nTracks : Int,\n",
    "    nJets : Int,\n",
    "    trackerVetoPt : Float,\n",
    "    emVetoEt : Float,\n",
    "    hadVetoEt : Float,\n",
    "    hoVetoEt : Float\n",
    ")\n",
    "\n",
    "\n",
    "case class MuonRecord25 (\n",
    "    sumPt : Float,\n",
    "    emEt : Float,\n",
    "    hadEt : Float,\n",
    "    hoEt : Float,\n",
    "    nTracks : Int,\n",
    "    nJets : Int,\n",
    "    trackerVetoPt : Float,\n",
    "    emVetoEt : Float,\n",
    "    hadVetoEt : Float,\n",
    "    hoVetoEt : Float\n",
    ")\n",
    "\n",
    "\n",
    "case class MuonRecord26 (\n",
    "    sumChargedHadronPt : Float,\n",
    "    sumChargedParticlePt : Float,\n",
    "    sumNeutralHadronEt : Float,\n",
    "    sumPhotonEt : Float,\n",
    "    sumNeutralHadronEtHighThreshold : Float,\n",
    "    sumPhotonEtHighThreshold : Float,\n",
    "    sumPUPt : Float\n",
    ")\n",
    "\n",
    "\n",
    "case class MuonRecord27 (\n",
    "    sumChargedHadronPt : Float,\n",
    "    sumChargedParticlePt : Float,\n",
    "    sumNeutralHadronEt : Float,\n",
    "    sumPhotonEt : Float,\n",
    "    sumNeutralHadronEtHighThreshold : Float,\n",
    "    sumPhotonEtHighThreshold : Float,\n",
    "    sumPUPt : Float\n",
    ")\n",
    "\n",
    "\n",
    "case class MuonRecord29 (\n",
    "    fX : Double,\n",
    "    fY : Double,\n",
    "    fZ : Double,\n",
    "    fT : Double\n",
    ")\n",
    "\n",
    "\n",
    "case class MuonRecord28 (\n",
    "    fCoordinates : MuonRecord29\n",
    ")\n",
    "\n",
    "\n",
    "case class MuonRecord0 (\n",
    "    qx3_ : Int,\n",
    "    pt_ : Float,\n",
    "    eta_ : Float,\n",
    "    phi_ : Float,\n",
    "    mass_ : Float,\n",
    "    vertex_ : MuonRecord1,\n",
    "    pdgId_ : Int,\n",
    "    status_ : Int,\n",
    "    innerTrack_ : MuonRecord3,\n",
    "    outerTrack_ : MuonRecord5,\n",
    "    globalTrack_ : MuonRecord7,\n",
    "    recoMuons_muons__RECO_obj_refittedTrackMap_ : Map[Int, MuonRecord9],\n",
    "    bestTrackType_ : Int,\n",
    "    calEnergy_ : MuonRecord11,\n",
    "    combinedQuality_ : MuonRecord18,\n",
    "    time_ : MuonRecord23,\n",
    "    energyValid_ : Boolean,\n",
    "    matchesValid_ : Boolean,\n",
    "    isolationValid_ : Boolean,\n",
    "    pfIsolationValid_ : Boolean,\n",
    "    qualityValid_ : Boolean,\n",
    "    caloCompatibility_ : Float,\n",
    "    isolationR03_ : MuonRecord24,\n",
    "    isolationR05_ : MuonRecord25,\n",
    "    pfIsolationR03_ : MuonRecord26,\n",
    "    pfIsolationR04_ : MuonRecord27,\n",
    "    type_ : Int,\n",
    "    pfP4_ : MuonRecord28\n",
    ")\n",
    "\n",
    "\n",
    "case class MuonEvent (\n",
    "    muons : Seq[MuonRecord0]\n",
    ")"
   ]
  },
  {
   "cell_type": "code",
   "execution_count": 12,
   "metadata": {},
   "outputs": [
    {
     "data": {
      "text/plain": [
       "queue = \n"
      ]
     },
     "metadata": {},
     "output_type": "display_data"
    },
    {
     "data": {
      "text/plain": [
       "Queue(\"\n",
       "\", \"\n",
       "\", \"\n",
       "\", \"\n",
       "\", \"\n",
       "\", \"\n",
       "\", \"\n",
       "\", \"\n",
       "    ...\n"
      ]
     },
     "metadata": {},
     "output_type": "display_data"
    },
    {
     "data": {
      "text/plain": [
       "Queue(\n",
       "case class Record2 (\n",
       "    fX : Float,\n",
       "    fY : Float,\n",
       "    fZ : Float\n",
       ")\n",
       ", \n",
       "case class Record1 (\n",
       "    fCoordinates : Record2\n",
       ")\n",
       ", \n",
       "case class Record3 (\n",
       "    scPixCharge : Int,\n",
       "    isGsfCtfScPixConsistent : Boolean,\n",
       "    isGsfScPixConsistent : Boolean,\n",
       "    isGsfCtfConsistent : Boolean\n",
       ")\n",
       ", \n",
       "case class Record5 (\n",
       "    processIndex_ : Short,\n",
       "    productIndex_ : Short,\n",
       "    elementIndex_ : Int\n",
       ")\n",
       ", \n",
       "case class Record4 (\n",
       "    recoGsfElectrons_gsfElectrons__RECO_obj_core__product_ : Record5\n",
       ")\n",
       ", \n",
       "case class Record8 (\n",
       "    processIndex_ : Short,\n",
       "    productIndex_ : Short\n",
       ")\n",
       ", \n",
       "case class Record7 (\n",
       "    recoGsfElectrons_gsfElectrons__RECO_obj_trackClusterMatching__electronCluster_core_ : Record8,\n",
       "    key_ : Long\n",
       ")\n",
       ", \n",
       "case class Record6 (\n",
       "    electronCluster : Record7,\n",
       "    eSuperClusterOverP : Float,\n",
       "    eSeedClusterOverP : Float,\n",
       "    eSeedClusterOverPout : Float,\n",
       "    eEleClusterOverPout : Float,\n",
       "    deltaEtaSuperClusterAtVtx : Float,\n",
       "    deltaEtaSeedClusterAtCalo : Float,\n",
       "    deltaEtaEleClusterAtCalo : Float,\n",
       "    deltaPhiEleClusterAtCalo : Float,\n",
       "    deltaPhiSuperClusterAtVtx : Float,\n",
       "    deltaPhiSeedClusterAtCalo : Float\n",
       ")\n",
       ", \n",
       "case class Record11 (\n",
       "    fX : Float,\n",
       "    fY : Float,\n",
       "    fZ : Float\n",
       ")\n",
       ", \n",
       "case class Record10 (\n",
       "    fCoordinates : Record11\n",
       ")\n",
       ", \n",
       "case class Record13 (\n",
       "    fX : Float,\n",
       "    fY : Float,\n",
       "    fZ : Float\n",
       ")\n",
       ", \n",
       "case class Record12 (\n",
       "    fCoordinates : Record13\n",
       ")\n",
       ", \n",
       "case class Record15 (\n",
       "    fX : Float,\n",
       "    fY : Float,\n",
       "    fZ : Float\n",
       ")\n",
       ", \n",
       "case class Record14 (\n",
       "    fCoordinates : Record15\n",
       ")\n",
       ", \n",
       "case class Record17 (\n",
       "    fX : Float,\n",
       "    fY : Float,\n",
       "    fZ : Float\n",
       ")\n",
       ", \n",
       "case class Record16 (\n",
       "    fCoordinates : Record17\n",
       ")\n",
       ", \n",
       "case class Record19 (\n",
       "    fX : Float,\n",
       "    fY : Float,\n",
       "    fZ : Float\n",
       ")\n",
       ", \n",
       "case class Record18 (\n",
       "    fCoordinates : Record19\n",
       ")\n",
       ", \n",
       "case class Record21 (\n",
       "    fX : Float,\n",
       "    fY : Float,\n",
       "    fZ : Float\n",
       ")\n",
       ", \n",
       "case class Record20 (\n",
       "    fCoordinates : Record21\n",
       ")\n",
       ", \n",
       "case class Record23 (\n",
       "    fX : Float,\n",
       "    fY : Float,\n",
       "    fZ : Float\n",
       ")\n",
       ", \n",
       "case class Record22 (\n",
       "    fCoordinates : Record23\n",
       ")\n",
       ", \n",
       "case class Record9 (\n",
       "    positionAtVtx : Record10,\n",
       "    positionAtCalo : Record12,\n",
       "    momentumAtVtx : Record14,\n",
       "    momentumAtCalo : Record16,\n",
       "    momentumOut : Record18,\n",
       "    momentumAtEleClus : Record20,\n",
       "    momentumAtVtxWithConstraint : Record22\n",
       ")\n",
       ", \n",
       "case class Record24 (\n",
       "    isEB : Boolean,\n",
       "    isEE : Boolean,\n",
       "    isEBEEGap : Boolean,\n",
       "    isEBEtaGap : Boolean,\n",
       "    isEBPhiGap : Boolean,\n",
       "    isEEDeeGap : Boolean,\n",
       "    isEERingGap : Boolean\n",
       ")\n",
       ", \n",
       "case class Record27 (\n",
       "    id_ : Int\n",
       ")\n",
       ", \n",
       "case class Record26 (\n",
       "    DetId : Record27\n",
       ")\n",
       ", \n",
       "case class Record25 (\n",
       "    sigmaEtaEta : Float,\n",
       "    sigmaIetaIeta : Float,\n",
       "    sigmaIphiIphi : Float,\n",
       "    e1x5 : Float,\n",
       "    e2x5Max : Float,\n",
       "    e5x5 : Float,\n",
       "    r9 : Float,\n",
       "    hcalDepth1OverEcal : Float,\n",
       "    hcalDepth2OverEcal : Float,\n",
       "    recoGsfElectrons_gsfElectrons__RECO_obj_showerShape__hcalTowersBehindClusters : Seq[Record26],\n",
       "    hcalDepth1OverEcalBc : Float,\n",
       "    hcalDepth2OverEcalBc : Float\n",
       ")\n",
       ", \n",
       "case class Record28 (\n",
       "    tkSumPt : Float,\n",
       "    ecalRecHitSumEt : Float,\n",
       "    hcalDepth1TowerSumEt : Float,\n",
       "    hcalDepth2TowerSumEt : Float,\n",
       "    hcalDepth1TowerSumEtBc : Float,\n",
       "    hcalDepth2TowerSumEtBc : Float\n",
       ")\n",
       ", \n",
       "case class Record29 (\n",
       "    tkSumPt : Float,\n",
       "    ecalRecHitSumEt : Float,\n",
       "    hcalDepth1TowerSumEt : Float,\n",
       "    hcalDepth2TowerSumEt : Float,\n",
       "    hcalDepth1TowerSumEtBc : Float,\n",
       "    hcalDepth2TowerSumEtBc : Float\n",
       ")\n",
       ", \n",
       "case class Record30 (\n",
       "    flags : Int,\n",
       "    dist : Float,\n",
       "    dcot : Float,\n",
       "    radius : Float\n",
       ")\n",
       ", \n",
       "case class Record33 (\n",
       "    id_ : Int\n",
       ")\n",
       ", \n",
       "case class Record32 (\n",
       "    DetId : Record33\n",
       ")\n",
       ", \n",
       "case class Record31 (\n",
       "    sigmaEtaEta : Float,\n",
       "    sigmaIetaIeta : Float,\n",
       "    sigmaIphiIphi : Float,\n",
       "    e1x5 : Float,\n",
       "    e2x5Max : Float,\n",
       "    e5x5 : Float,\n",
       "    r9 : Float,\n",
       "    hcalDepth1OverEcal : Float,\n",
       "    hcalDepth2OverEcal : Float,\n",
       "    recoGsfElectrons_gsfElectrons__RECO_obj_pfShowerShape__hcalTowersBehindClusters : Seq[Record32],\n",
       "    hcalDepth1OverEcalBc : Float,\n",
       "    hcalDepth2OverEcalBc : Float\n",
       ")\n",
       ", \n",
       "case class Record34 (\n",
       "    chargedHadronIso : Float,\n",
       "    neutralHadronIso : Float,\n",
       "    photonIso : Float\n",
       ")\n",
       ", \n",
       "case class Record35 (\n",
       "    earlyBrem : Int,\n",
       "    lateBrem : Int,\n",
       "    sigmaEtaEta : Float,\n",
       "    hadEnergy : Float,\n",
       "    deltaEta : Float,\n",
       "    nClusterOutsideMustache : Int,\n",
       "    etOutsideMustache : Float\n",
       ")\n",
       ", \n",
       "case class Record36 (\n",
       "    status : Int,\n",
       "    mva : Float,\n",
       "    mvaByPassForIsolated : Float\n",
       ")\n",
       ", \n",
       "case class Record39 (\n",
       "    processIndex_ : Short,\n",
       "    productIndex_ : Short\n",
       ")\n",
       ", \n",
       "case class Record38 (\n",
       "    recoGsfElectrons_gsfElectrons__RECO_obj_ambiguousGsfTracks__refVector__product_ : Record39,\n",
       "    recoGsfElectrons_gsfElectrons__RECO_obj_ambiguousGsfTracks__refVector__keys_ : Seq[Int]\n",
       ")\n",
       ", \n",
       "case class Record37 (\n",
       "    refVector_ : Record38\n",
       ")\n",
       ", \n",
       "case class Record40 (\n",
       "    trackFbrem : Float,\n",
       "    superClusterFbrem : Float,\n",
       "    pfSuperClusterFbrem : Float\n",
       ")\n",
       ", \n",
       "case class Record43 (\n",
       "    fX : Double,\n",
       "    fY : Double,\n",
       "    fZ : Double,\n",
       "    fT : Double\n",
       ")\n",
       ", \n",
       "case class Record42 (\n",
       "    fCoordinates : Record43\n",
       ")\n",
       ", \n",
       "case class Record45 (\n",
       "    fX : Double,\n",
       "    fY : Double,\n",
       "    fZ : Double,\n",
       "    fT : Double\n",
       ")\n",
       ", \n",
       "case class Record44 (\n",
       "    fCoordinates : Record45\n",
       ")\n",
       ", \n",
       "case class Record47 (\n",
       "    fX : Double,\n",
       "    fY : Double,\n",
       "    fZ : Double,\n",
       "    fT : Double\n",
       ")\n",
       ", \n",
       "case class Record46 (\n",
       "    fCoordinates : Record47\n",
       ")\n",
       ", \n",
       "case class Record41 (\n",
       "    isEcalEnergyCorrected : Boolean,\n",
       "    correctedEcalEnergy : Float,\n",
       "    correctedEcalEnergyError : Float,\n",
       "    trackMomentumError : Float,\n",
       "    fromSuperClusterP4 : Record42,\n",
       "    fromSuperClusterP4Error : Float,\n",
       "    combinedP4 : Record44,\n",
       "    combinedP4Error : Float,\n",
       "    pflowP4 : Record46,\n",
       "    pflowP4Error : Float,\n",
       "    candidateP4Kind : Int\n",
       ")\n",
       ", \n",
       "case class Record0 (\n",
       "    qx3_ : Int,\n",
       "    pt_ : Float,\n",
       "    eta_ : Float,\n",
       "    phi_ : Float,\n",
       "    mass_ : Float,\n",
       "    vertex_ : Record1,\n",
       "    pdgId_ : Int,\n",
       "    status_ : Int,\n",
       "    chargeInfo_ : Record3,\n",
       "    core_ : Record4,\n",
       "    trackClusterMatching_ : Record6,\n",
       "    trackExtrapolations_ : Record9,\n",
       "    fiducialFlags_ : Record24,\n",
       "    showerShape_ : Record25,\n",
       "    dr03_ : Record28,\n",
       "    dr04_ : Record29,\n",
       "    conversionRejection_ : Record30,\n",
       "    pfShowerShape_ : Record31,\n",
       "    pfIso_ : Record34,\n",
       "    mvaInput_ : Record35,\n",
       "    mvaOutput_ : Record36,\n",
       "    passCutBasedPreselection_ : Boolean,\n",
       "    passPflowPreselection_ : Boolean,\n",
       "    passMvaPreslection_ : Boolean,\n",
       "    ambiguous_ : Boolean,\n",
       "    ambiguousGsfTracks_ : Record37,\n",
       "    classVariables_ : Record40,\n",
       "    class_ : Int,\n",
       "    corrections_ : Record41\n",
       ")\n",
       ", \n",
       "case class Event (\n",
       "    electrons : Seq[Record0]\n",
       ")\n",
       ")"
      ]
     },
     "execution_count": 12,
     "metadata": {},
     "output_type": "execute_result"
    }
   ],
   "source": [
    "val queue = dsElectrons.schema.codeGen(\"Event\")\n",
    "val s = queue.mkString(\"\\n\")\n",
    "val file = new File(\"electron_schema_codegen.txt\")\n",
    "val bw = new BufferedWriter(new FileWriter(file))\n",
    "bw.write(s)\n",
    "bw.close()"
   ]
  },
  {
   "cell_type": "code",
   "execution_count": 13,
   "metadata": {},
   "outputs": [
    {
     "data": {
      "text/plain": [
       "defined class ElectronRecord2\n",
       "defined class ElectronRecord1\n",
       "defined class ElectronRecord3\n",
       "defined class ElectronRecord5\n",
       "defined class ElectronRecord4\n",
       "defined class ElectronRecord8\n",
       "defined class ElectronRecord7\n",
       "defined class ElectronRecord6\n",
       "defined class ElectronRecord11\n",
       "defined class ElectronRecord10\n",
       "defined class ElectronRecord13\n",
       "defined class ElectronRecord12\n",
       "defined class ElectronRecord15\n",
       "defined class ElectronRecord14\n",
       "defined class ElectronRecord17\n",
       "defined class ElectronRecord16\n",
       "defined class ElectronRecord19\n",
       "defined class ElectronRecord18\n",
       "defined class ElectronRecord21\n",
       "defined class ElectronRecord20\n",
       "defined class ElectronRecord23\n",
       "defined class ElectronRecord22\n",
       "defined class ElectronRecord9\n",
       "defined class ElectronRecord24\n",
       "defined class ElectronRecord27\n",
       "defined class ElectronRecord26\n"
      ]
     },
     "metadata": {},
     "output_type": "display_data"
    },
    {
     "data": {
      "text/plain": [
       "...\n"
      ]
     },
     "metadata": {},
     "output_type": "display_data"
    }
   ],
   "source": [
    "\n",
    "case class ElectronRecord2 (\n",
    "    fX : Float,\n",
    "    fY : Float,\n",
    "    fZ : Float\n",
    ")\n",
    "\n",
    "\n",
    "case class ElectronRecord1 (\n",
    "    fCoordinates : ElectronRecord2\n",
    ")\n",
    "\n",
    "\n",
    "case class ElectronRecord3 (\n",
    "    scPixCharge : Int,\n",
    "    isGsfCtfScPixConsistent : Boolean,\n",
    "    isGsfScPixConsistent : Boolean,\n",
    "    isGsfCtfConsistent : Boolean\n",
    ")\n",
    "\n",
    "\n",
    "case class ElectronRecord5 (\n",
    "    processIndex_ : Short,\n",
    "    productIndex_ : Short,\n",
    "    elementIndex_ : Int\n",
    ")\n",
    "\n",
    "\n",
    "case class ElectronRecord4 (\n",
    "    recoGsfElectrons_gsfElectrons__RECO_obj_core__product_ : ElectronRecord5\n",
    ")\n",
    "\n",
    "\n",
    "case class ElectronRecord8 (\n",
    "    processIndex_ : Short,\n",
    "    productIndex_ : Short\n",
    ")\n",
    "\n",
    "\n",
    "case class ElectronRecord7 (\n",
    "    recoGsfElectrons_gsfElectrons__RECO_obj_trackClusterMatching__electronCluster_core_ : ElectronRecord8,\n",
    "    key_ : Long\n",
    ")\n",
    "\n",
    "\n",
    "case class ElectronRecord6 (\n",
    "    electronCluster : ElectronRecord7,\n",
    "    eSuperClusterOverP : Float,\n",
    "    eSeedClusterOverP : Float,\n",
    "    eSeedClusterOverPout : Float,\n",
    "    eEleClusterOverPout : Float,\n",
    "    deltaEtaSuperClusterAtVtx : Float,\n",
    "    deltaEtaSeedClusterAtCalo : Float,\n",
    "    deltaEtaEleClusterAtCalo : Float,\n",
    "    deltaPhiEleClusterAtCalo : Float,\n",
    "    deltaPhiSuperClusterAtVtx : Float,\n",
    "    deltaPhiSeedClusterAtCalo : Float\n",
    ")\n",
    "\n",
    "\n",
    "case class ElectronRecord11 (\n",
    "    fX : Float,\n",
    "    fY : Float,\n",
    "    fZ : Float\n",
    ")\n",
    "\n",
    "\n",
    "case class ElectronRecord10 (\n",
    "    fCoordinates : ElectronRecord11\n",
    ")\n",
    "\n",
    "\n",
    "case class ElectronRecord13 (\n",
    "    fX : Float,\n",
    "    fY : Float,\n",
    "    fZ : Float\n",
    ")\n",
    "\n",
    "\n",
    "case class ElectronRecord12 (\n",
    "    fCoordinates : ElectronRecord13\n",
    ")\n",
    "\n",
    "\n",
    "case class ElectronRecord15 (\n",
    "    fX : Float,\n",
    "    fY : Float,\n",
    "    fZ : Float\n",
    ")\n",
    "\n",
    "\n",
    "case class ElectronRecord14 (\n",
    "    fCoordinates : ElectronRecord15\n",
    ")\n",
    "\n",
    "\n",
    "case class ElectronRecord17 (\n",
    "    fX : Float,\n",
    "    fY : Float,\n",
    "    fZ : Float\n",
    ")\n",
    "\n",
    "\n",
    "case class ElectronRecord16 (\n",
    "    fCoordinates : ElectronRecord17\n",
    ")\n",
    "\n",
    "\n",
    "case class ElectronRecord19 (\n",
    "    fX : Float,\n",
    "    fY : Float,\n",
    "    fZ : Float\n",
    ")\n",
    "\n",
    "\n",
    "case class ElectronRecord18 (\n",
    "    fCoordinates : ElectronRecord19\n",
    ")\n",
    "\n",
    "\n",
    "case class ElectronRecord21 (\n",
    "    fX : Float,\n",
    "    fY : Float,\n",
    "    fZ : Float\n",
    ")\n",
    "\n",
    "\n",
    "case class ElectronRecord20 (\n",
    "    fCoordinates : ElectronRecord21\n",
    ")\n",
    "\n",
    "\n",
    "case class ElectronRecord23 (\n",
    "    fX : Float,\n",
    "    fY : Float,\n",
    "    fZ : Float\n",
    ")\n",
    "\n",
    "\n",
    "case class ElectronRecord22 (\n",
    "    fCoordinates : ElectronRecord23\n",
    ")\n",
    "\n",
    "\n",
    "case class ElectronRecord9 (\n",
    "    positionAtVtx : ElectronRecord10,\n",
    "    positionAtCalo : ElectronRecord12,\n",
    "    momentumAtVtx : ElectronRecord14,\n",
    "    momentumAtCalo : ElectronRecord16,\n",
    "    momentumOut : ElectronRecord18,\n",
    "    momentumAtEleClus : ElectronRecord20,\n",
    "    momentumAtVtxWithConstraint : ElectronRecord22\n",
    ")\n",
    "\n",
    "\n",
    "case class ElectronRecord24 (\n",
    "    isEB : Boolean,\n",
    "    isEE : Boolean,\n",
    "    isEBEEGap : Boolean,\n",
    "    isEBEtaGap : Boolean,\n",
    "    isEBPhiGap : Boolean,\n",
    "    isEEDeeGap : Boolean,\n",
    "    isEERingGap : Boolean\n",
    ")\n",
    "\n",
    "\n",
    "case class ElectronRecord27 (\n",
    "    id_ : Int\n",
    ")\n",
    "\n",
    "\n",
    "case class ElectronRecord26 (\n",
    "    DetId : ElectronRecord27\n",
    ")\n",
    "\n",
    "\n",
    "case class ElectronRecord25 (\n",
    "    sigmaEtaEta : Float,\n",
    "    sigmaIetaIeta : Float,\n",
    "    sigmaIphiIphi : Float,\n",
    "    e1x5 : Float,\n",
    "    e2x5Max : Float,\n",
    "    e5x5 : Float,\n",
    "    r9 : Float,\n",
    "    hcalDepth1OverEcal : Float,\n",
    "    hcalDepth2OverEcal : Float,\n",
    "    recoGsfElectrons_gsfElectrons__RECO_obj_showerShape__hcalTowersBehindClusters : Seq[ElectronRecord26],\n",
    "    hcalDepth1OverEcalBc : Float,\n",
    "    hcalDepth2OverEcalBc : Float\n",
    ")\n",
    "\n",
    "\n",
    "case class ElectronRecord28 (\n",
    "    tkSumPt : Float,\n",
    "    ecalRecHitSumEt : Float,\n",
    "    hcalDepth1TowerSumEt : Float,\n",
    "    hcalDepth2TowerSumEt : Float,\n",
    "    hcalDepth1TowerSumEtBc : Float,\n",
    "    hcalDepth2TowerSumEtBc : Float\n",
    ")\n",
    "\n",
    "\n",
    "case class ElectronRecord29 (\n",
    "    tkSumPt : Float,\n",
    "    ecalRecHitSumEt : Float,\n",
    "    hcalDepth1TowerSumEt : Float,\n",
    "    hcalDepth2TowerSumEt : Float,\n",
    "    hcalDepth1TowerSumEtBc : Float,\n",
    "    hcalDepth2TowerSumEtBc : Float\n",
    ")\n",
    "\n",
    "\n",
    "case class ElectronRecord30 (\n",
    "    flags : Int,\n",
    "    dist : Float,\n",
    "    dcot : Float,\n",
    "    radius : Float\n",
    ")\n",
    "\n",
    "\n",
    "case class ElectronRecord33 (\n",
    "    id_ : Int\n",
    ")\n",
    "\n",
    "\n",
    "case class ElectronRecord32 (\n",
    "    DetId : ElectronRecord33\n",
    ")\n",
    "\n",
    "\n",
    "case class ElectronRecord31 (\n",
    "    sigmaEtaEta : Float,\n",
    "    sigmaIetaIeta : Float,\n",
    "    sigmaIphiIphi : Float,\n",
    "    e1x5 : Float,\n",
    "    e2x5Max : Float,\n",
    "    e5x5 : Float,\n",
    "    r9 : Float,\n",
    "    hcalDepth1OverEcal : Float,\n",
    "    hcalDepth2OverEcal : Float,\n",
    "    recoGsfElectrons_gsfElectrons__RECO_obj_pfShowerShape__hcalTowersBehindClusters : Seq[ElectronRecord32],\n",
    "    hcalDepth1OverEcalBc : Float,\n",
    "    hcalDepth2OverEcalBc : Float\n",
    ")\n",
    "\n",
    "\n",
    "case class ElectronRecord34 (\n",
    "    chargedHadronIso : Float,\n",
    "    neutralHadronIso : Float,\n",
    "    photonIso : Float\n",
    ")\n",
    "\n",
    "\n",
    "case class ElectronRecord35 (\n",
    "    earlyBrem : Int,\n",
    "    lateBrem : Int,\n",
    "    sigmaEtaEta : Float,\n",
    "    hadEnergy : Float,\n",
    "    deltaEta : Float,\n",
    "    nClusterOutsideMustache : Int,\n",
    "    etOutsideMustache : Float\n",
    ")\n",
    "\n",
    "\n",
    "case class ElectronRecord36 (\n",
    "    status : Int,\n",
    "    mva : Float,\n",
    "    mvaByPassForIsolated : Float\n",
    ")\n",
    "\n",
    "\n",
    "case class ElectronRecord39 (\n",
    "    processIndex_ : Short,\n",
    "    productIndex_ : Short\n",
    ")\n",
    "\n",
    "\n",
    "case class ElectronRecord38 (\n",
    "    recoGsfElectrons_gsfElectrons__RECO_obj_ambiguousGsfTracks__refVector__product_ : ElectronRecord39,\n",
    "    recoGsfElectrons_gsfElectrons__RECO_obj_ambiguousGsfTracks__refVector__keys_ : Seq[Int]\n",
    ")\n",
    "\n",
    "\n",
    "case class ElectronRecord37 (\n",
    "    refVector_ : ElectronRecord38\n",
    ")\n",
    "\n",
    "\n",
    "case class ElectronRecord40 (\n",
    "    trackFbrem : Float,\n",
    "    superClusterFbrem : Float,\n",
    "    pfSuperClusterFbrem : Float\n",
    ")\n",
    "\n",
    "\n",
    "case class ElectronRecord43 (\n",
    "    fX : Double,\n",
    "    fY : Double,\n",
    "    fZ : Double,\n",
    "    fT : Double\n",
    ")\n",
    "\n",
    "\n",
    "case class ElectronRecord42 (\n",
    "    fCoordinates : ElectronRecord43\n",
    ")\n",
    "\n",
    "\n",
    "case class ElectronRecord45 (\n",
    "    fX : Double,\n",
    "    fY : Double,\n",
    "    fZ : Double,\n",
    "    fT : Double\n",
    ")\n",
    "\n",
    "\n",
    "case class ElectronRecord44 (\n",
    "    fCoordinates : ElectronRecord45\n",
    ")\n",
    "\n",
    "\n",
    "case class ElectronRecord47 (\n",
    "    fX : Double,\n",
    "    fY : Double,\n",
    "    fZ : Double,\n",
    "    fT : Double\n",
    ")\n",
    "\n",
    "\n",
    "case class ElectronRecord46 (\n",
    "    fCoordinates : ElectronRecord47\n",
    ")\n",
    "\n",
    "\n",
    "case class ElectronRecord41 (\n",
    "    isEcalEnergyCorrected : Boolean,\n",
    "    correctedEcalEnergy : Float,\n",
    "    correctedEcalEnergyError : Float,\n",
    "    trackMomentumError : Float,\n",
    "    fromSuperClusterP4 : ElectronRecord42,\n",
    "    fromSuperClusterP4Error : Float,\n",
    "    combinedP4 : ElectronRecord44,\n",
    "    combinedP4Error : Float,\n",
    "    pflowP4 : ElectronRecord46,\n",
    "    pflowP4Error : Float,\n",
    "    candidateP4Kind : Int\n",
    ")\n",
    "\n",
    "\n",
    "case class ElectronRecord0 (\n",
    "    qx3_ : Int,\n",
    "    pt_ : Float,\n",
    "    eta_ : Float,\n",
    "    phi_ : Float,\n",
    "    mass_ : Float,\n",
    "    vertex_ : ElectronRecord1,\n",
    "    pdgId_ : Int,\n",
    "    status_ : Int,\n",
    "    chargeInfo_ : ElectronRecord3,\n",
    "    core_ : ElectronRecord4,\n",
    "    trackClusterMatching_ : ElectronRecord6,\n",
    "    trackExtrapolations_ : ElectronRecord9,\n",
    "    fiducialFlags_ : ElectronRecord24,\n",
    "    showerShape_ : ElectronRecord25,\n",
    "    dr03_ : ElectronRecord28,\n",
    "    dr04_ : ElectronRecord29,\n",
    "    conversionRejection_ : ElectronRecord30,\n",
    "    pfShowerShape_ : ElectronRecord31,\n",
    "    pfIso_ : ElectronRecord34,\n",
    "    mvaInput_ : ElectronRecord35,\n",
    "    mvaOutput_ : ElectronRecord36,\n",
    "    passCutBasedPreselection_ : Boolean,\n",
    "    passPflowPreselection_ : Boolean,\n",
    "    passMvaPreslection_ : Boolean,\n",
    "    ambiguous_ : Boolean,\n",
    "    ambiguousGsfTracks_ : ElectronRecord37,\n",
    "    classVariables_ : ElectronRecord40,\n",
    "    class_ : Int,\n",
    "    corrections_ : ElectronRecord41\n",
    ")\n",
    "\n",
    "\n",
    "case class ElectronEvent (\n",
    "    electrons : Seq[ElectronRecord0]\n",
    ")\n"
   ]
  },
  {
   "cell_type": "markdown",
   "metadata": {},
   "source": [
    "Convert the datasets from Dataset[Row] to Dataset[Event], where Event is the top level case class generated above."
   ]
  },
  {
   "cell_type": "code",
   "execution_count": 14,
   "metadata": {},
   "outputs": [
    {
     "data": {
      "text/plain": [
       "dsMuonsSchema = [muons: array<struct<qx3_:int,pt_:float,eta_:float,phi_:float,mass_:float,vertex_:struct<fCoordinates:struct<fX:float,fY:float,fZ:float>>,pdgId_:int,status_:int,innerTrack_:struct<recoMuons_muons__RECO_obj_innerTrack__product_:struct<processIndex_:smallint,productIndex_:smallint,elementIndex_:int>>,outerTrack_:struct<recoMuons_muons__RECO_obj_outerTrack__product_:struct<processIndex_:smallint,productIndex_:smallint,elementIndex_:int>>,globalTrack_:struct<recoMuons_muons__RECO_obj_globalTrack__product_:struct<processIndex_:smallint,productIndex_:smallint,elementIndex_:int>>,recoMuons_muons__RECO_obj_refittedTrackMap_:map<int,struct<product_:struct<processIndex_:smallint,productIndex_:smallint,elementIndex_:int>>>,bestTrackType_:int...\n"
      ]
     },
     "metadata": {},
     "output_type": "display_data"
    },
    {
     "data": {
      "text/plain": [
       "[muons: array<struct<qx3_:int,pt_:float,eta_:float,phi_:float,mass_:float,vertex_:struct<fCoordinates:struct<fX:float,fY:float,fZ:float>>,pdgId_:int,status_:int,innerTrack_:struct<recoMuons_muons__RECO_obj_innerTrack__product_:struct<processIndex_:smallint,productIndex_:smallint,elementIndex_:int>>,outerTrack_:struct<recoMuons_muons__RECO_obj_outerTrack__product_:struct<processIndex_:smallint,productIndex_:smallint,elementIndex_:int>>,globalTrack_:struct<recoMuons_muons__RECO_obj_globalTrack__product_:struct<processIndex_:smallint,productIndex_:smallint,elementIndex_:int>>,recoMuons_muons__RECO_obj_refittedTrackMap_:map<int,struct<product_:struct<processIndex_:smallint,productIndex_:smallint,elementIndex_:int>>>,bestTrackType_:int,calEnergy_:struct<tower:float,towerS9:float,em:float,emS9:float,emS25:float,emMax:float,had:float,hadS9:float,hadMax:float,ho:float,hoS9:float,ecal_time:float,ecal_timeError:float,hcal_time:float,hcal_timeError:float,ecal_position:struct<fCoordinates:struct<fX:float,fY:float,fZ:float>>,hcal_position:struct<fCoordinates:struct<fX:float,fY:float,fZ:float>>,ecal_id:struct<id_:int>,hcal_id:struct<id_:int>>,combinedQuality_:struct<updatedSta:boolean,trkKink:float,glbKink:float,trkRelChi2:float,staRelChi2:float,chi2LocalPosition:float,chi2LocalMomentum:float,localDistance:float,globalDeltaEtaPhi:float,tightMatch:boolean,glbTrackProbability:float,tkKink_position:struct<fCoordinates:struct<fX:double,fY:double,fZ:double>>,glbKink_position:struct<fCoordinates:struct<fX:double,fY:double,fZ:double>>>,time_:struct<nDof:int,timeAtIpInOut:float,timeAtIpInOutErr:float,timeAtIpOutIn:float,timeAtIpOutInErr:float>,energyValid_:boolean,matchesValid_:boolean,isolationValid_:boolean,pfIsolationValid_:boolean,qualityValid_:boolean,caloCompatibility_:float,isolationR03_:struct<sumPt:float,emEt:float,hadEt:float,hoEt:float,nTracks:int,nJets:int,trackerVetoPt:float,emVetoEt:float,hadVetoEt:float,hoVetoEt:float>,isolationR05_:struct<sumPt:float,emEt:float,hadEt:float,hoEt:float,nTracks:int,nJets:int,trackerVetoPt:float,emVetoEt:float,hadVetoEt:float,hoVetoEt:float>,... 4 more fields>>]"
      ]
     },
     "execution_count": 14,
     "metadata": {},
     "output_type": "execute_result"
    }
   ],
   "source": [
    "val dsMuonsSchema = dsMuons.as[MuonEvent]"
   ]
  },
  {
   "cell_type": "code",
   "execution_count": 15,
   "metadata": {},
   "outputs": [
    {
     "data": {
      "text/plain": [
       "dsElectronSchema = [electrons: array<struct<qx3_:int,pt_:float,eta_:float,phi_:float,mass_:float,vertex_:struct<fCoordinates:struct<fX:float,fY:float,fZ:float>>,pdgId_:int,status_:int,chargeInfo_:struct<scPixCharge:int,isGsfCtfScPixConsistent:boolean,isGsfScPixConsistent:boolean,isGsfCtfConsistent:boolean>,core_:struct<recoGsfElectrons_gsfElectrons__RECO_obj_core__product_:struct<processIndex_:smallint,productIndex_:smallint,elementIndex_:int>>,trackClusterMatching_:struct<electronCluster:struct<recoGsfElectrons_gsfElectrons__RECO_obj_trackClusterMatching__electronCluster_core_:struct<processIndex_:smallint,productIndex_:smallint>,key_:bigint>,eSuperClusterOverP:float,eSeedClusterOverP:float,eSeedClusterOverPout:float,eEleClusterOverPout:floa...\n"
      ]
     },
     "metadata": {},
     "output_type": "display_data"
    },
    {
     "data": {
      "text/plain": [
       "[electrons: array<struct<qx3_:int,pt_:float,eta_:float,phi_:float,mass_:float,vertex_:struct<fCoordinates:struct<fX:float,fY:float,fZ:float>>,pdgId_:int,status_:int,chargeInfo_:struct<scPixCharge:int,isGsfCtfScPixConsistent:boolean,isGsfScPixConsistent:boolean,isGsfCtfConsistent:boolean>,core_:struct<recoGsfElectrons_gsfElectrons__RECO_obj_core__product_:struct<processIndex_:smallint,productIndex_:smallint,elementIndex_:int>>,trackClusterMatching_:struct<electronCluster:struct<recoGsfElectrons_gsfElectrons__RECO_obj_trackClusterMatching__electronCluster_core_:struct<processIndex_:smallint,productIndex_:smallint>,key_:bigint>,eSuperClusterOverP:float,eSeedClusterOverP:float,eSeedClusterOverPout:float,eEleClusterOverPout:float,deltaEtaSuperClusterAtVtx:float,deltaEtaSeedClusterAtCalo:float,deltaEtaEleClusterAtCalo:float,deltaPhiEleClusterAtCalo:float,deltaPhiSuperClusterAtVtx:float,deltaPhiSeedClusterAtCalo:float>,trackExtrapolations_:struct<positionAtVtx:struct<fCoordinates:struct<fX:float,fY:float,fZ:float>>,positionAtCalo:struct<fCoordinates:struct<fX:float,fY:float,fZ:float>>,momentumAtVtx:struct<fCoordinates:struct<fX:float,fY:float,fZ:float>>,momentumAtCalo:struct<fCoordinates:struct<fX:float,fY:float,fZ:float>>,momentumOut:struct<fCoordinates:struct<fX:float,fY:float,fZ:float>>,momentumAtEleClus:struct<fCoordinates:struct<fX:float,fY:float,fZ:float>>,momentumAtVtxWithConstraint:struct<fCoordinates:struct<fX:float,fY:float,fZ:float>>>,fiducialFlags_:struct<isEB:boolean,isEE:boolean,isEBEEGap:boolean,isEBEtaGap:boolean,isEBPhiGap:boolean,isEEDeeGap:boolean,isEERingGap:boolean>,showerShape_:struct<sigmaEtaEta:float,sigmaIetaIeta:float,sigmaIphiIphi:float,e1x5:float,e2x5Max:float,e5x5:float,r9:float,hcalDepth1OverEcal:float,hcalDepth2OverEcal:float,recoGsfElectrons_gsfElectrons__RECO_obj_showerShape__hcalTowersBehindClusters:array<struct<DetId:struct<id_:int>>>,hcalDepth1OverEcalBc:float,hcalDepth2OverEcalBc:float>,dr03_:struct<tkSumPt:float,ecalRecHitSumEt:float,hcalDepth1TowerSumEt:float,hcalDepth2TowerSumEt:float,hcalDepth1TowerSumEtBc:float,hcalDepth2TowerSumEtBc:float>,dr04_:struct<tkSumPt:float,ecalRecHitSumEt:float,hcalDepth1TowerSumEt:float,hcalDepth2TowerSumEt:float,hcalDepth1TowerSumEtBc:float,hcalDepth2TowerSumEtBc:float>,conversionRejection_:struct<flags:int,dist:float,dcot:float,radius:float>,pfShowerShape_:struct<sigmaEtaEta:float,sigmaIetaIeta:float,sigmaIphiIphi:float,e1x5:float,e2x5Max:float,e5x5:float,r9:float,hcalDepth1OverEcal:float,hcalDepth2OverEcal:float,recoGsfElectrons_gsfElectrons__RECO_obj_pfShowerShape__hcalTowersBehindClusters:array<struct<DetId:struct<id_:int>>>,hcalDepth1OverEcalBc:float,hcalDepth2OverEcalBc:float>,pfIso_:struct<chargedHadronIso:float,neutralHadronIso:float,photonIso:float>,mvaInput_:struct<earlyBrem:int,lateBrem:int,sigmaEtaEta:float,hadEnergy:float,deltaEta:float,nClusterOutsideMustache:int,etOutsideMustache:float>,mvaOutput_:struct<status:int,mva:float,mvaByPassForIsolated:float>,passCutBasedPreselection_:boolean,passPflowPreselection_:boolean,passMvaPreslection_:boolean,... 5 more fields>>]"
      ]
     },
     "execution_count": 15,
     "metadata": {},
     "output_type": "execute_result"
    }
   ],
   "source": [
    "val dsElectronSchema = dsElectrons.as[ElectronEvent]"
   ]
  },
  {
   "cell_type": "markdown",
   "metadata": {},
   "source": [
    "# Muon object selection\n",
    "\n",
    "Only some of the basic kinematic and isolation cuts were able to be implemented.  Most of the detailed identification cuts could not be implemented, as they rely on track references.\n",
    "\n",
    "### Implemented\n",
    "\n",
    "-  pT(μ) > 10 GeV \n",
    "-  |η(μ)| < 2.4 \n",
    "-  Global Muon \n",
    "-  rel. ISO. < 0.5 (β = 0.5)\n",
    "\n",
    "### Not Implemented\n",
    "\n",
    "-  PF Muon \n",
    "-  chi2/ndf < 10 \n",
    "-  standalone hits > 0 \n",
    "-  matched stations >= 2 \n",
    "-  pixel hits > 0 \n",
    "-  N tracker layers >= 6 \n",
    "-  |dxy| < 0.2 cm \n",
    "-  |dz| < 0.5 cm \n"
   ]
  },
  {
   "cell_type": "code",
   "execution_count": 20,
   "metadata": {},
   "outputs": [
    {
     "data": {
      "text/plain": [
       "iso: (isoStruct: MuonRecord27)Float\n",
       "passMuonSel: (muon: MuonRecord0)Boolean\n"
      ]
     },
     "metadata": {},
     "output_type": "display_data"
    }
   ],
   "source": [
    "// helper function to calculate isolation from the struct\n",
    "def iso(isoStruct: MuonRecord27):Float = {\n",
    "    val neutral = max(0.0F, isoStruct.sumNeutralHadronEt + isoStruct.sumPhotonEt - 0.5F * isoStruct.sumPUPt)\n",
    "    isoStruct.sumChargedHadronPt + neutral\n",
    "}\n",
    "\n",
    "// just do the looser muon selection here.  will do a second selection for leading muon later\n",
    "def passMuonSel(muon: MuonRecord0):Boolean = {\n",
    "    (muon.pt_ > 10.0F) &&\n",
    "    (abs(muon.eta_) < 2.4F) &&\n",
    "    (iso(muon.pfIsolationR04_)/muon.pt_ < 0.5F) &&\n",
    "    ((muon.type_ & (1<<1)) != 0) // global muon    \n",
    "}"
   ]
  },
  {
   "cell_type": "markdown",
   "metadata": {},
   "source": [
    "This will return a Dataset[Event], where only the passing muons are kept in each event.  No events are removed at this stage - that comes next."
   ]
  },
  {
   "cell_type": "code",
   "execution_count": 22,
   "metadata": {},
   "outputs": [
    {
     "data": {
      "text/plain": [
       "dsMuonsSel = [muons: array<struct<qx3_:int,pt_:float,eta_:float,phi_:float,mass_:float,vertex_:struct<fCoordinates:struct<fX:float,fY:float,fZ:float>>,pdgId_:int,status_:int,innerTrack_:struct<recoMuons_muons__RECO_obj_innerTrack__product_:struct<processIndex_:smallint,productIndex_:smallint,elementIndex_:int>>,outerTrack_:struct<recoMuons_muons__RECO_obj_outerTrack__product_:struct<processIndex_:smallint,productIndex_:smallint,elementIndex_:int>>,globalTrack_:struct<recoMuons_muons__RECO_obj_globalTrack__product_:struct<processIndex_:smallint,productIndex_:smallint,elementIndex_:int>>,recoMuons_muons__RECO_obj_refittedTrackMap_:map<int,struct<product_:struct<processIndex_:smallint,productIndex_:smallint,elementIndex_:int>>>,bestTrackType_:int,ca...\n"
      ]
     },
     "metadata": {},
     "output_type": "display_data"
    },
    {
     "data": {
      "text/plain": [
       "[muons: array<struct<qx3_:int,pt_:float,eta_:float,phi_:float,mass_:float,vertex_:struct<fCoordinates:struct<fX:float,fY:float,fZ:float>>,pdgId_:int,status_:int,innerTrack_:struct<recoMuons_muons__RECO_obj_innerTrack__product_:struct<processIndex_:smallint,productIndex_:smallint,elementIndex_:int>>,outerTrack_:struct<recoMuons_muons__RECO_obj_outerTrack__product_:struct<processIndex_:smallint,productIndex_:smallint,elementIndex_:int>>,globalTrack_:struct<recoMuons_muons__RECO_obj_globalTrack__product_:struct<processIndex_:smallint,productIndex_:smallint,elementIndex_:int>>,recoMuons_muons__RECO_obj_refittedTrackMap_:map<int,struct<product_:struct<processIndex_:smallint,productIndex_:smallint,elementIndex_:int>>>,bestTrackType_:int,calEnergy_:struct<tower:float,towerS9:float,em:float,emS9:float,emS25:float,emMax:float,had:float,hadS9:float,hadMax:float,ho:float,hoS9:float,ecal_time:float,ecal_timeError:float,hcal_time:float,hcal_timeError:float,ecal_position:struct<fCoordinates:struct<fX:float,fY:float,fZ:float>>,hcal_position:struct<fCoordinates:struct<fX:float,fY:float,fZ:float>>,ecal_id:struct<id_:int>,hcal_id:struct<id_:int>>,combinedQuality_:struct<updatedSta:boolean,trkKink:float,glbKink:float,trkRelChi2:float,staRelChi2:float,chi2LocalPosition:float,chi2LocalMomentum:float,localDistance:float,globalDeltaEtaPhi:float,tightMatch:boolean,glbTrackProbability:float,tkKink_position:struct<fCoordinates:struct<fX:double,fY:double,fZ:double>>,glbKink_position:struct<fCoordinates:struct<fX:double,fY:double,fZ:double>>>,time_:struct<nDof:int,timeAtIpInOut:float,timeAtIpInOutErr:float,timeAtIpOutIn:float,timeAtIpOutInErr:float>,energyValid_:boolean,matchesValid_:boolean,isolationValid_:boolean,pfIsolationValid_:boolean,qualityValid_:boolean,caloCompatibility_:float,isolationR03_:struct<sumPt:float,emEt:float,hadEt:float,hoEt:float,nTracks:int,nJets:int,trackerVetoPt:float,emVetoEt:float,hadVetoEt:float,hoVetoEt:float>,isolationR05_:struct<sumPt:float,emEt:float,hadEt:float,hoEt:float,nTracks:int,nJets:int,trackerVetoPt:float,emVetoEt:float,hadVetoEt:float,hoVetoEt:float>,... 4 more fields>>]"
      ]
     },
     "execution_count": 22,
     "metadata": {},
     "output_type": "execute_result"
    }
   ],
   "source": [
    "val dsMuonsSel = dsMuonsSchema.map{\n",
    "    event =>\n",
    "    val pass_muons = event.muons.filter(muon => passMuonSel(muon))\n",
    "    MuonEvent(pass_muons)\n",
    "} "
   ]
  },
  {
   "cell_type": "markdown",
   "metadata": {},
   "source": [
    "# Event Level Selection\n",
    "\n",
    "First require >= 2 muons to reduce the size quickly.  This only keeps events with at least 2 muons, where the muons already have the object level selection above applied to them."
   ]
  },
  {
   "cell_type": "code",
   "execution_count": 23,
   "metadata": {},
   "outputs": [
    {
     "name": "stdout",
     "output_type": "stream",
     "text": [
      "Could not find ROOT clas: vector<edm::StoredProductProvenance>. Swallowing...\n",
      "Could not find ROOT clas: vector<unsigned short>. Swallowing...\n",
      "Could not find ROOT clas: vector<edm::StoredProductProvenance>. Swallowing...\n",
      "Could not find ROOT clas: vector<unsigned short>. Swallowing...\n",
      "(1821,93)\n"
     ]
    },
    {
     "data": {
      "text/plain": [
       "dsDimuons = [muons: array<struct<qx3_:int,pt_:float,eta_:float,phi_:float,mass_:float,vertex_:struct<fCoordinates:struct<fX:float,fY:float,fZ:float>>,pdgId_:int,status_:int,innerTrack_:struct<recoMuons_muons__RECO_obj_innerTrack__product_:struct<processIndex_:smallint,productIndex_:smallint,elementIndex_:int>>,outerTrack_:struct<recoMuons_muons__RECO_obj_outerTrack__product_:struct<processIndex_:smallint,productIndex_:smallint,elementIndex_:int>>,globalTrack_:struct<recoMuons_muons__RECO_obj_globalTrack__product_:struct<processIndex_:smallint,productIndex_:smallint,elementIndex_:int>>,recoMuons_muons__RECO_obj_refittedTrackMap_:map<int,struct<product_:struct<processIndex_:smallint,productIndex_:smallint,elementIndex_:int>>>,bestTrackType_:int,cal...\n"
      ]
     },
     "metadata": {},
     "output_type": "display_data"
    },
    {
     "data": {
      "text/plain": [
       "[muons: array<struct<qx3_:int,pt_:float,eta_:float,phi_:float,mass_:float,vertex_:struct<fCoordinates:struct<fX:float,fY:float,fZ:float>>,pdgId_:int,status_:int,innerTrack_:struct<recoMuons_muons__RECO_obj_innerTrack__product_:struct<processIndex_:smallint,productIndex_:smallint,elementIndex_:int>>,outerTrack_:struct<recoMuons_muons__RECO_obj_outerTrack__product_:struct<processIndex_:smallint,productIndex_:smallint,elementIndex_:int>>,globalTrack_:struct<recoMuons_muons__RECO_obj_globalTrack__product_:struct<processIndex_:smallint,productIndex_:smallint,elementIndex_:int>>,recoMuons_muons__RECO_obj_refittedTrackMap_:map<int,struct<product_:struct<processIndex_:smallint,productIndex_:smallint,elementIndex_:int>>>,bestTrackType_:int,calEnergy_:struct<tower:float,towerS9:float,em:float,emS9:float,emS25:float,emMax:float,had:float,hadS9:float,hadMax:float,ho:float,hoS9:float,ecal_time:float,ecal_timeError:float,hcal_time:float,hcal_timeError:float,ecal_position:struct<fCoordinates:struct<fX:float,fY:float,fZ:float>>,hcal_position:struct<fCoordinates:struct<fX:float,fY:float,fZ:float>>,ecal_id:struct<id_:int>,hcal_id:struct<id_:int>>,combinedQuality_:struct<updatedSta:boolean,trkKink:float,glbKink:float,trkRelChi2:float,staRelChi2:float,chi2LocalPosition:float,chi2LocalMomentum:float,localDistance:float,globalDeltaEtaPhi:float,tightMatch:boolean,glbTrackProbability:float,tkKink_position:struct<fCoordinates:struct<fX:double,fY:double,fZ:double>>,glbKink_position:struct<fCoordinates:struct<fX:double,fY:double,fZ:double>>>,time_:struct<nDof:int,timeAtIpInOut:float,timeAtIpInOutErr:float,timeAtIpOutIn:float,timeAtIpOutInErr:float>,energyValid_:boolean,matchesValid_:boolean,isolationValid_:boolean,pfIsolationValid_:boolean,qualityValid_:boolean,caloCompatibility_:float,isolationR03_:struct<sumPt:float,emEt:float,hadEt:float,hoEt:float,nTracks:int,nJets:int,trackerVetoPt:float,emVetoEt:float,hadVetoEt:float,hoVetoEt:float>,isolationR05_:struct<sumPt:float,emEt:float,hadEt:float,hoEt:float,nTracks:int,nJets:int,trackerVetoPt:float,emVetoEt:float,hadVetoEt:float,hoVetoEt:float>,... 4 more fields>>]"
      ]
     },
     "execution_count": 23,
     "metadata": {},
     "output_type": "execute_result"
    }
   ],
   "source": [
    "val dsDimuons = dsMuonsSel.filter(event => event.muons.length > 1)\n",
    "println(dsMuonsSel.count,dsDimuons.count)"
   ]
  },
  {
   "cell_type": "markdown",
   "metadata": {},
   "source": [
    "### Implemented\n",
    "\n",
    "- leading pT(μ) > 25 GeV \n",
    "- leading |η(μ)| < 2.1 \n",
    "- Leading two muons have opposite sign, used to compute invariant mass\n",
    "\n",
    "### Not Implemented\n",
    "\n",
    "- Pass trigger (too complicated to access)\n",
    "- |Y(Z)| < 2.2 (possible but need extra utility code to calculate)\n",
    "- select pair with mass closest to m(Z) -> instead choosing 2 highest pt muons\n"
   ]
  },
  {
   "cell_type": "code",
   "execution_count": 25,
   "metadata": {},
   "outputs": [
    {
     "data": {
      "text/plain": [
       "passEventSel: (event: MuonEvent)Boolean\n"
      ]
     },
     "metadata": {},
     "output_type": "display_data"
    }
   ],
   "source": [
    "// method to apply the event level selection cuts,\n",
    "//  including tighter cuts on the leading muon\n",
    "def passEventSel(event:MuonEvent):Boolean = {\n",
    "    (event.muons(0).pt_ > 25.0F) &&\n",
    "    (abs(event.muons(0).eta_) < 2.1F) &&\n",
    "    (iso(event.muons(0).pfIsolationR04_)/event.muons(0).pt_ < 0.12F) &&\n",
    "    (event.muons(0).pdgId_ * event.muons(1).pdgId_ < 0)\n",
    "}"
   ]
  },
  {
   "cell_type": "markdown",
   "metadata": {},
   "source": [
    "This keeps only the event that pass the further selections from passEventSel"
   ]
  },
  {
   "cell_type": "code",
   "execution_count": 26,
   "metadata": {},
   "outputs": [
    {
     "name": "stdout",
     "output_type": "stream",
     "text": [
      "Could not find ROOT clas: vector<edm::StoredProductProvenance>. Swallowing...\n",
      "Could not find ROOT clas: vector<unsigned short>. Swallowing...\n",
      "Could not find ROOT clas: vector<edm::StoredProductProvenance>. Swallowing...\n",
      "Could not find ROOT clas: vector<unsigned short>. Swallowing...\n",
      "(93,56)\n"
     ]
    },
    {
     "data": {
      "text/plain": [
       "dsDimuonsSel = [muons: array<struct<qx3_:int,pt_:float,eta_:float,phi_:float,mass_:float,vertex_:struct<fCoordinates:struct<fX:float,fY:float,fZ:float>>,pdgId_:int,status_:int,innerTrack_:struct<recoMuons_muons__RECO_obj_innerTrack__product_:struct<processIndex_:smallint,productIndex_:smallint,elementIndex_:int>>,outerTrack_:struct<recoMuons_muons__RECO_obj_outerTrack__product_:struct<processIndex_:smallint,productIndex_:smallint,elementIndex_:int>>,globalTrack_:struct<recoMuons_muons__RECO_obj_globalTrack__product_:struct<processIndex_:smallint,productIndex_:smallint,elementIndex_:int>>,recoMuons_muons__RECO_obj_refittedTrackMap_:map<int,struct<product_:struct<processIndex_:smallint,productIndex_:smallint,elementIndex_:int>>>,bestTrackType_:int,...\n"
      ]
     },
     "metadata": {},
     "output_type": "display_data"
    },
    {
     "data": {
      "text/plain": [
       "[muons: array<struct<qx3_:int,pt_:float,eta_:float,phi_:float,mass_:float,vertex_:struct<fCoordinates:struct<fX:float,fY:float,fZ:float>>,pdgId_:int,status_:int,innerTrack_:struct<recoMuons_muons__RECO_obj_innerTrack__product_:struct<processIndex_:smallint,productIndex_:smallint,elementIndex_:int>>,outerTrack_:struct<recoMuons_muons__RECO_obj_outerTrack__product_:struct<processIndex_:smallint,productIndex_:smallint,elementIndex_:int>>,globalTrack_:struct<recoMuons_muons__RECO_obj_globalTrack__product_:struct<processIndex_:smallint,productIndex_:smallint,elementIndex_:int>>,recoMuons_muons__RECO_obj_refittedTrackMap_:map<int,struct<product_:struct<processIndex_:smallint,productIndex_:smallint,elementIndex_:int>>>,bestTrackType_:int,calEnergy_:struct<tower:float,towerS9:float,em:float,emS9:float,emS25:float,emMax:float,had:float,hadS9:float,hadMax:float,ho:float,hoS9:float,ecal_time:float,ecal_timeError:float,hcal_time:float,hcal_timeError:float,ecal_position:struct<fCoordinates:struct<fX:float,fY:float,fZ:float>>,hcal_position:struct<fCoordinates:struct<fX:float,fY:float,fZ:float>>,ecal_id:struct<id_:int>,hcal_id:struct<id_:int>>,combinedQuality_:struct<updatedSta:boolean,trkKink:float,glbKink:float,trkRelChi2:float,staRelChi2:float,chi2LocalPosition:float,chi2LocalMomentum:float,localDistance:float,globalDeltaEtaPhi:float,tightMatch:boolean,glbTrackProbability:float,tkKink_position:struct<fCoordinates:struct<fX:double,fY:double,fZ:double>>,glbKink_position:struct<fCoordinates:struct<fX:double,fY:double,fZ:double>>>,time_:struct<nDof:int,timeAtIpInOut:float,timeAtIpInOutErr:float,timeAtIpOutIn:float,timeAtIpOutInErr:float>,energyValid_:boolean,matchesValid_:boolean,isolationValid_:boolean,pfIsolationValid_:boolean,qualityValid_:boolean,caloCompatibility_:float,isolationR03_:struct<sumPt:float,emEt:float,hadEt:float,hoEt:float,nTracks:int,nJets:int,trackerVetoPt:float,emVetoEt:float,hadVetoEt:float,hoVetoEt:float>,isolationR05_:struct<sumPt:float,emEt:float,hadEt:float,hoEt:float,nTracks:int,nJets:int,trackerVetoPt:float,emVetoEt:float,hadVetoEt:float,hoVetoEt:float>,... 4 more fields>>]"
      ]
     },
     "execution_count": 26,
     "metadata": {},
     "output_type": "execute_result"
    }
   ],
   "source": [
    "val dsDimuonsSel = dsDimuons.filter(event => passEventSel(event))\n",
    "println(dsDimuons.count,dsDimuonsSel.count)"
   ]
  },
  {
   "cell_type": "markdown",
   "metadata": {},
   "source": [
    "# Calculate invariant mass, store in parquet file"
   ]
  },
  {
   "cell_type": "code",
   "execution_count": 18,
   "metadata": {},
   "outputs": [
    {
     "data": {
      "text/plain": [
       "invariantMass: (mu1: Record0, mu2: Record0)Float\n"
      ]
     },
     "metadata": {},
     "output_type": "display_data"
    }
   ],
   "source": [
    "def invariantMass(mu1:Record0,mu2:Record0):Float = {\n",
    "    val pt1 = mu1.pt_\n",
    "    val phi1 = mu1.phi_\n",
    "    val eta1 = mu1.eta_\n",
    "    val pt2 = mu2.pt_\n",
    "    val phi2 = mu2.phi_\n",
    "    val eta2 = mu2.eta_\n",
    "    // simplified formula, assuming E >> m\n",
    "    sqrt(2*pt1*pt2*(cosh(eta1-eta2)-cos(phi1-phi2))).toFloat\n",
    "}"
   ]
  },
  {
   "cell_type": "markdown",
   "metadata": {},
   "source": [
    "For every event, calculates the invariant mass of the 2 leading leptons in pt, and stores that in a Dataset."
   ]
  },
  {
   "cell_type": "code",
   "execution_count": 19,
   "metadata": {},
   "outputs": [
    {
     "data": {
      "text/plain": [
       "dsMll = [value: float]\n"
      ]
     },
     "metadata": {},
     "output_type": "display_data"
    },
    {
     "data": {
      "text/plain": [
       "[value: float]"
      ]
     },
     "execution_count": 19,
     "metadata": {},
     "output_type": "execute_result"
    }
   ],
   "source": [
    "val dsMll = dsDimuonsSel.map{\n",
    "    event => invariantMass(event.muons(0),event.muons(1))\n",
    "}\n"
   ]
  },
  {
   "cell_type": "code",
   "execution_count": 20,
   "metadata": {},
   "outputs": [
    {
     "name": "stdout",
     "output_type": "stream",
     "text": [
      "Could not find ROOT clas: vector<edm::StoredProductProvenance>. Swallowing...\n",
      "Could not find ROOT clas: vector<unsigned short>. Swallowing...\n",
      "+----------+\n",
      "|     value|\n",
      "+----------+\n",
      "| 101.88198|\n",
      "| 89.569756|\n",
      "|102.658165|\n",
      "|  85.33978|\n",
      "|  91.30339|\n",
      "|  92.38314|\n",
      "| 90.027435|\n",
      "|  91.20334|\n",
      "|  91.65053|\n",
      "|  85.25341|\n",
      "|0.17177893|\n",
      "|  85.44693|\n",
      "|  91.38214|\n",
      "|   89.3595|\n",
      "|  82.22048|\n",
      "|   141.883|\n",
      "| 90.447495|\n",
      "| 1.5694852|\n",
      "|  97.33839|\n",
      "| 89.867455|\n",
      "+----------+\n",
      "only showing top 20 rows\n",
      "\n"
     ]
    }
   ],
   "source": [
    "dsMll.show"
   ]
  },
  {
   "cell_type": "markdown",
   "metadata": {},
   "source": [
    "Writes out a parquet file with the Dataset of invariant mass values.  Note that this defines a directory, not a single file, and it will NOT overwrite an existing directory."
   ]
  },
  {
   "cell_type": "code",
   "execution_count": 21,
   "metadata": {},
   "outputs": [
    {
     "name": "stdout",
     "output_type": "stream",
     "text": [
      "Could not find ROOT clas: vector<edm::StoredProductProvenance>. Swallowing...\n",
      "Could not find ROOT clas: vector<unsigned short>. Swallowing...\n"
     ]
    }
   ],
   "source": [
    "dsMll.write.format(\"parquet\").save(\"file:/home/PlayerOne/mll_AOD.parquet\")"
   ]
  },
  {
   "cell_type": "code",
   "execution_count": null,
   "metadata": {},
   "outputs": [],
   "source": []
  },
  {
   "cell_type": "code",
   "execution_count": null,
   "metadata": {},
   "outputs": [],
   "source": []
  },
  {
   "cell_type": "code",
   "execution_count": null,
   "metadata": {},
   "outputs": [],
   "source": []
  }
 ],
 "metadata": {
  "kernelspec": {
   "display_name": "Apache Toree - Scala",
   "language": "scala",
   "name": "apache_toree_scala"
  },
  "language_info": {
   "codemirror_mode": "text/x-scala",
   "file_extension": ".scala",
   "mimetype": "text/x-scala",
   "name": "scala",
   "pygments_lexer": "scala",
   "version": "2.11.8"
  }
 },
 "nbformat": 4,
 "nbformat_minor": 2
}
